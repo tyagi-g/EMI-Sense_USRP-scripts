{
 "metadata": {
  "name": ""
 },
 "nbformat": 3,
 "nbformat_minor": 0,
 "worksheets": [
  {
   "cells": [
    {
     "cell_type": "code",
     "collapsed": false,
     "input": [
      "import numpy as np\n",
      "from scipy import fft, arange,signal\n",
      "import scipy \n",
      "import pandas as pd\n",
      "from os import listdir\n",
      "from os.path import isfile,join"
     ],
     "language": "python",
     "metadata": {},
     "outputs": []
    },
    {
     "cell_type": "code",
     "collapsed": false,
     "input": [
      "##############################################\n",
      "#Generate a list of all USRP traces as a CSV\n",
      "##############################################\n",
      "\n",
      "\n",
      "###GLOBALS\n",
      "#Path to directory where USRP data dump files of type \"Trace_xxxx\" are stored\n",
      "dirpath='C:\\Users\\GEETALI\\Desktop\\\\02-07-14'\n",
      "#Path to directory where book.csv should be created\n",
      "bookpath='C:\\Users\\Example\\Desktop'\n",
      "\n"
     ],
     "language": "python",
     "metadata": {},
     "outputs": []
    },
    {
     "cell_type": "code",
     "collapsed": false,
     "input": [
      "#Generate list of filenames\n",
      "files=[f for f in listdir(dirpath) if (isfile(join(dirpath,f)) and f.startswith(\"Trace_\")) and (not(f.endswith(\".csv\")))]\n",
      "\n",
      "#Initialize pandas dataframe\n",
      "df=[]\n",
      "df = pd.DataFrame(columns=['Traces','Appliances'], index=range(len(files)), dtype=float)\n",
      "df['Traces']=files\n",
      "\n",
      "#Create CSV from dataframe\n",
      "df.to_csv(bookpath+\"\\Book.csv\",index=False,index_label=False)"
     ],
     "language": "python",
     "metadata": {},
     "outputs": []
    }
   ],
   "metadata": {}
  }
 ]
}
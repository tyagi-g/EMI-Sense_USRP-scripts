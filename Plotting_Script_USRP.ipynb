{
 "metadata": {
  "name": ""
 },
 "nbformat": 3,
 "nbformat_minor": 0,
 "worksheets": [
  {
   "cells": [
    {
     "cell_type": "code",
     "collapsed": false,
     "input": [
      "import pandas as pd\n",
      "import numpy as np\n",
      "import matplotlib\n",
      "print matplotlib.get_backend()\n",
      "matplotlib.use('qt4agg')\n",
      "print matplotlib.get_backend()\n",
      "import matplotlib.pyplot as plt"
     ],
     "language": "python",
     "metadata": {},
     "outputs": [
      {
       "output_type": "stream",
       "stream": "stdout",
       "text": [
        "Qt4Agg\n",
        "Qt4Agg\n"
       ]
      }
     ],
     "prompt_number": 1
    },
    {
     "cell_type": "code",
     "collapsed": false,
     "input": [
      "########################################################\n",
      "#Plot appliance traces against background noise traces\n",
      "########################################################\n",
      "\n",
      "##GLOBALS\n",
      "#Path to FFT_averaged data stored as CSVs\n",
      "dirpath='C:\\Users\\GEETALI\\Desktop\\\\'\n",
      "#Location of Book.csv containing metadata of traces\n",
      "bookpath='C:\\Users\\GEETALI\\Desktop\\\\Book1.csv'\n",
      "#Index of first trace to be plotted in Book.csv\n",
      "x=8\n",
      "#Index of second trace tobe plotted in Book.csv\n",
      "y=9\n",
      "\n",
      "x=x-2\n",
      "y=y-2"
     ],
     "language": "python",
     "metadata": {},
     "outputs": [
      {
       "output_type": "stream",
       "stream": "stdout",
       "text": [
        "C:\\Users\\GEETALI\\Desktop\\6-7-14\\\n"
       ]
      }
     ],
     "prompt_number": 3
    },
    {
     "cell_type": "code",
     "collapsed": false,
     "input": [
      "#Read Book.csv data\n",
      "df = pd.read_csv(bookpath)\n",
      "\n",
      "#Stores appliances' names in names array\n",
      "names=df['Appliances'].tolist()\n",
      "\n",
      "#Stores traces' names (e.g. Trace_xxxx) in names array\n",
      "traces=df['Traces'].tolist()"
     ],
     "language": "python",
     "metadata": {},
     "outputs": []
    },
    {
     "cell_type": "code",
     "collapsed": false,
     "input": [
      "path1 = dirpath+traces[x]+'_FFT_Averaged'\n",
      "path2 = dirpath+traces[y]+'_FFT_Averaged'\n",
      "\n",
      "#Read data from both FFT_Averaged CSVs to dataframes DF1 and DF2\n",
      "DF1 = pd.read_csv(path1+'.csv',header=None, names = ['Frequency','Data'])\n",
      "DF2 = pd.read_csv(path2+'.csv',header=None, names = ['Frequency','Data'])"
     ],
     "language": "python",
     "metadata": {},
     "outputs": [],
     "prompt_number": 16
    },
    {
     "cell_type": "code",
     "collapsed": false,
     "input": [
      "#Print trace numbers and appliance names of traces to be plotted\n",
      "print traces[x],traces[y]\n",
      "print names[x],names[y]"
     ],
     "language": "python",
     "metadata": {},
     "outputs": [
      {
       "output_type": "stream",
       "stream": "stdout",
       "text": [
        "Trace_1404659586 Trace_1404659658\n",
        "BGN5(UPS) CFL1+LC1(UPS)\n"
       ]
      }
     ],
     "prompt_number": 17
    },
    {
     "cell_type": "code",
     "collapsed": false,
     "input": [
      "\n",
      "ax = plt.gca();\n",
      "ax.grid(True); #Create grid in plot\n",
      "\n",
      "plt.plot(DF1['Frequency'],DF1['Data'],'b') #Plot first trace in blue\n",
      "plt.plot(DF2['Frequency'],DF2['Data'],'r') #Plot second trace in red\n",
      "\n",
      "plt.locator_params(axis = 'x', nbins = 10)\n",
      "plt.xlabel(\"Frequency ( in Khz )\"); #Label x_axis\n",
      "plt.ylabel(\"Amplitude ( in dBm )\"); #Label y_axis\n",
      "plt.ylim((-150, -10)) #Set x_axis limits\n",
      "plt.xlim((10,1000)) #Set y_axis limits\n",
      "\n",
      "plt.legend([names[x],names[y]]);  #Generate legend for plots\n",
      "\n",
      "plt.xticks(rotation=70) #Rotate x_axis values by 70 degrees\n",
      "\n",
      "mng = plt.get_current_fig_manager()\n",
      "mng.window.showMaximized() #Maximize plot window\n",
      "\n",
      "#Save plot to a Plots directory within current directory\n",
      "plt.savefig(dirpath+\"Plots\\\\\"+str(names[y])+\"_\"+str(names[x])+\"_USRP.png\");\n",
      "\n",
      "#Display plot\n",
      "plt.show();"
     ],
     "language": "python",
     "metadata": {},
     "outputs": [],
     "prompt_number": 18
    },
    {
     "cell_type": "code",
     "collapsed": false,
     "input": [
      "    "
     ],
     "language": "python",
     "metadata": {},
     "outputs": [],
     "prompt_number": 16
    },
    {
     "cell_type": "code",
     "collapsed": false,
     "input": [],
     "language": "python",
     "metadata": {},
     "outputs": []
    }
   ],
   "metadata": {}
  }
 ]
}
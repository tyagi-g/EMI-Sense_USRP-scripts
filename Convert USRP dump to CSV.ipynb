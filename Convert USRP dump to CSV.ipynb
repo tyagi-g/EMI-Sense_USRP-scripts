{
 "metadata": {
  "name": ""
 },
 "nbformat": 3,
 "nbformat_minor": 0,
 "worksheets": [
  {
   "cells": [
    {
     "cell_type": "code",
     "collapsed": false,
     "input": [
      "import numpy as np\n",
      "from scipy import fft, arange,signal\n",
      "import scipy\n",
      "from math import pow, log10  \n",
      "import pandas as pd\n",
      "import matplotlib.pyplot as plt\n",
      "import matplotlib.dates as mdates\n",
      "import datetime as dt"
     ],
     "language": "python",
     "metadata": {},
     "outputs": [],
     "prompt_number": 1
    },
    {
     "cell_type": "code",
     "collapsed": false,
     "input": [
      "#############################\n",
      "#Convert USRP traces to CSV \n",
      "#############################\n",
      "\n",
      "###GLOBALS\n",
      "#Location of Book.csv / list of alll traces\n",
      "bookpath='C:\\Users\\GEETALI\\Desktop\\Book1.csv'\n",
      "\n",
      "#Path to directory where USRP traces are stored\n",
      "dirpath='C:\\Users\\GEETALI\\Desktop'\n",
      "\n",
      "#Path to directory where USRP trace CSVs are to be stored after conversion\n",
      "dirpath2='C:\\Users\\GEETALI\\Desktop'\n",
      "\n",
      "#Set size/number of points in a single traces\n",
      "num_of_points=9999999"
     ],
     "language": "python",
     "metadata": {},
     "outputs": []
    },
    {
     "cell_type": "code",
     "collapsed": false,
     "input": [
      "#Read Book.csv to dataframe\n",
      "DF1 = pd.read_csv(bookpath)\n",
      "\n",
      "#Generate list of traces\n",
      "traces=DF1['Traces'].tolist()\n",
      "\n",
      "#Store number of traces\n",
      "n=len(traces)"
     ],
     "language": "python",
     "metadata": {},
     "outputs": [
      {
       "output_type": "stream",
       "stream": "stdout",
       "text": [
        "Trace_1404658680\n",
        "10\n",
        "C:\\Users\\GEETALI\\Desktop\\6-7-14\\\n",
        "['Trace_1404658680', 'Trace_1404658750', 'Trace_1404658813', 'Trace_1404658892', 'Trace_1404659286', 'Trace_1404659355', 'Trace_1404659414', 'Trace_1404659527', 'Trace_1404659586', 'Trace_1404659658']\n"
       ]
      }
     ],
     "prompt_number": 4
    },
    {
     "cell_type": "code",
     "collapsed": false,
     "input": [
      "#Copy data from traces to array list d\n",
      "d = [0]*n\n",
      "for i in range(0,n):\n",
      "    d[i] = np.memmap(dirpath+'\\\\'+traces[i], mode = 'r' , dtype=np.complex64)\n",
      "    print 'done',i\n",
      "\n",
      "#Initialize pandas dataframe\n",
      "df = pd.DataFrame(columns=[''], index=range(num_of_points), dtype=float)\n",
      "\n",
      "#Copy data to dataframe df and dump to CSV\n",
      "for i in range(0,n):\n",
      "    df[''] = abs(d[i][0:9999999])\n",
      "    df.to_csv(dirpath2+'//'+traces[i]+\".csv\",header=False,index=False,index_label=False)\n",
      "    df = pd.DataFrame(columns=[''], index=range(num_of_points), dtype=float)\n",
      "    print 'done',i\n",
      "        \n",
      "        "
     ],
     "language": "python",
     "metadata": {},
     "outputs": [
      {
       "output_type": "stream",
       "stream": "stdout",
       "text": [
        "10\n",
        "done 0\n",
        "done 1\n",
        "done 2\n",
        "done 3\n",
        "done 4\n",
        "done 5\n",
        "done 6\n",
        "done 7\n",
        "done 8\n",
        "done 9\n",
        "9999999"
       ]
      },
      {
       "output_type": "stream",
       "stream": "stdout",
       "text": [
        "\n",
        "done"
       ]
      },
      {
       "output_type": "stream",
       "stream": "stdout",
       "text": [
        " 0\n",
        "done"
       ]
      },
      {
       "output_type": "stream",
       "stream": "stdout",
       "text": [
        " 1\n",
        "done"
       ]
      },
      {
       "output_type": "stream",
       "stream": "stdout",
       "text": [
        " 2\n",
        "done"
       ]
      },
      {
       "output_type": "stream",
       "stream": "stdout",
       "text": [
        " 3\n",
        "done"
       ]
      },
      {
       "output_type": "stream",
       "stream": "stdout",
       "text": [
        " 4\n",
        "done"
       ]
      },
      {
       "output_type": "stream",
       "stream": "stdout",
       "text": [
        " 5\n",
        "done"
       ]
      },
      {
       "output_type": "stream",
       "stream": "stdout",
       "text": [
        " 6\n",
        "done"
       ]
      },
      {
       "output_type": "stream",
       "stream": "stdout",
       "text": [
        " 7\n",
        "done"
       ]
      },
      {
       "output_type": "stream",
       "stream": "stdout",
       "text": [
        " 8\n",
        "done"
       ]
      },
      {
       "output_type": "stream",
       "stream": "stdout",
       "text": [
        " 9\n"
       ]
      }
     ],
     "prompt_number": 6
    }
   ],
   "metadata": {}
  }
 ]
}